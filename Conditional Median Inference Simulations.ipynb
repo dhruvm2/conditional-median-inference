{
 "cells": [
  {
   "cell_type": "markdown",
   "metadata": {
    "id": "5PeSb7qR9jqK"
   },
   "source": [
    "# Conditional Median Inference Simulations"
   ]
  },
  {
   "cell_type": "markdown",
   "metadata": {
    "id": "M6tar0pt9q-r"
   },
   "source": [
    "This notebook replicates the simulations seen in Section 4 of [1]. Specifically, it tests the performance of the general Conditional Quantile Inference algorithm (Algorithm 2) on 3 distributions with 4 different conformity scores. There are 4 sections:\n",
    "\n",
    "\n",
    "1.   **Distributions** - Describes the distribution class and covers the 3 relevant distributions\n",
    "2.   **Conformity Scores** - Describes the conformity score class and covers the 4 relevant scores\n",
    "3.   **Conditional Quantile Algorithm** - Contains an implementation of Algorithm 2\n",
    "4.   **Testing Algorithm Performance** - Tests algorithm performance given each combination of distribution and conformity score\n",
    "\n",
    "\n",
    "\n",
    "[1] Dhruv Medarametla and Emmanuel Candès, \"Distribution-Free Conditional Median Inference.\" 2021."
   ]
  },
  {
   "cell_type": "code",
   "execution_count": null,
   "metadata": {
    "colab": {
     "base_uri": "https://localhost:8080/"
    },
    "id": "H83Rf7lTG8z8",
    "outputId": "6ccd263d-b446-4e03-baa3-129a6979f789"
   },
   "outputs": [
    {
     "name": "stdout",
     "output_type": "stream",
     "text": [
      "Collecting scikit-garden\n",
      "\u001b[?25l  Downloading https://files.pythonhosted.org/packages/63/0f/850592f6e8619d42086cdcc6a1731a4254f74db09878a155ab3d4cdc55ef/scikit-garden-0.1.3.tar.gz (317kB)\n",
      "\r",
      "\u001b[K     |█                               | 10kB 12.8MB/s eta 0:00:01\r",
      "\u001b[K     |██                              | 20kB 18.7MB/s eta 0:00:01\r",
      "\u001b[K     |███                             | 30kB 10.1MB/s eta 0:00:01\r",
      "\u001b[K     |████▏                           | 40kB 9.3MB/s eta 0:00:01\r",
      "\u001b[K     |█████▏                          | 51kB 5.0MB/s eta 0:00:01\r",
      "\u001b[K     |██████▏                         | 61kB 5.6MB/s eta 0:00:01\r",
      "\u001b[K     |███████▎                        | 71kB 5.9MB/s eta 0:00:01\r",
      "\u001b[K     |████████▎                       | 81kB 6.2MB/s eta 0:00:01\r",
      "\u001b[K     |█████████▎                      | 92kB 6.3MB/s eta 0:00:01\r",
      "\u001b[K     |██████████▎                     | 102kB 5.0MB/s eta 0:00:01\r",
      "\u001b[K     |███████████▍                    | 112kB 5.0MB/s eta 0:00:01\r",
      "\u001b[K     |████████████▍                   | 122kB 5.0MB/s eta 0:00:01\r",
      "\u001b[K     |█████████████▍                  | 133kB 5.0MB/s eta 0:00:01\r",
      "\u001b[K     |██████████████▌                 | 143kB 5.0MB/s eta 0:00:01\r",
      "\u001b[K     |███████████████▌                | 153kB 5.0MB/s eta 0:00:01\r",
      "\u001b[K     |████████████████▌               | 163kB 5.0MB/s eta 0:00:01\r",
      "\u001b[K     |█████████████████▋              | 174kB 5.0MB/s eta 0:00:01\r",
      "\u001b[K     |██████████████████▋             | 184kB 5.0MB/s eta 0:00:01\r",
      "\u001b[K     |███████████████████▋            | 194kB 5.0MB/s eta 0:00:01\r",
      "\u001b[K     |████████████████████▋           | 204kB 5.0MB/s eta 0:00:01\r",
      "\u001b[K     |█████████████████████▊          | 215kB 5.0MB/s eta 0:00:01\r",
      "\u001b[K     |██████████████████████▊         | 225kB 5.0MB/s eta 0:00:01\r",
      "\u001b[K     |███████████████████████▊        | 235kB 5.0MB/s eta 0:00:01\r",
      "\u001b[K     |████████████████████████▉       | 245kB 5.0MB/s eta 0:00:01\r",
      "\u001b[K     |█████████████████████████▉      | 256kB 5.0MB/s eta 0:00:01\r",
      "\u001b[K     |██████████████████████████▉     | 266kB 5.0MB/s eta 0:00:01\r",
      "\u001b[K     |████████████████████████████    | 276kB 5.0MB/s eta 0:00:01\r",
      "\u001b[K     |█████████████████████████████   | 286kB 5.0MB/s eta 0:00:01\r",
      "\u001b[K     |██████████████████████████████  | 296kB 5.0MB/s eta 0:00:01\r",
      "\u001b[K     |███████████████████████████████ | 307kB 5.0MB/s eta 0:00:01\r",
      "\u001b[K     |████████████████████████████████| 317kB 5.0MB/s \n",
      "\u001b[?25hRequirement already satisfied: numpy in /usr/local/lib/python3.6/dist-packages (from scikit-garden) (1.18.5)\n",
      "Requirement already satisfied: scipy in /usr/local/lib/python3.6/dist-packages (from scikit-garden) (1.4.1)\n",
      "Requirement already satisfied: scikit-learn>=0.18 in /usr/local/lib/python3.6/dist-packages (from scikit-garden) (0.22.2.post1)\n",
      "Requirement already satisfied: cython in /usr/local/lib/python3.6/dist-packages (from scikit-garden) (0.29.21)\n",
      "Requirement already satisfied: joblib>=0.11 in /usr/local/lib/python3.6/dist-packages (from scikit-learn>=0.18->scikit-garden) (0.17.0)\n",
      "Building wheels for collected packages: scikit-garden\n",
      "  Building wheel for scikit-garden (setup.py) ... \u001b[?25l\u001b[?25hdone\n",
      "  Created wheel for scikit-garden: filename=scikit_garden-0.1.3-cp36-cp36m-linux_x86_64.whl size=665224 sha256=8c739d126bb6c621a069e93a8dfaf4938c956e569030713c248aaa28eede9e39\n",
      "  Stored in directory: /root/.cache/pip/wheels/d0/ef/71/3a032ba9a2b70690c9f9ec2e383afee6610f509af312ff2cf3\n",
      "Successfully built scikit-garden\n",
      "Installing collected packages: scikit-garden\n",
      "Successfully installed scikit-garden-0.1.3\n"
     ]
    }
   ],
   "source": [
    "!pip install scikit-garden"
   ]
  },
  {
   "cell_type": "code",
   "execution_count": null,
   "metadata": {
    "colab": {
     "base_uri": "https://localhost:8080/"
    },
    "id": "_FHWaRDVAi2_",
    "outputId": "54a17674-6960-4c4e-d58c-31513ddc373f"
   },
   "outputs": [
    {
     "name": "stdout",
     "output_type": "stream",
     "text": [
      "Mounted at /content/gdrive\n"
     ]
    },
    {
     "name": "stderr",
     "output_type": "stream",
     "text": [
      "/usr/local/lib/python3.6/dist-packages/sklearn/utils/deprecation.py:144: FutureWarning: The sklearn.ensemble.forest module is  deprecated in version 0.22 and will be removed in version 0.24. The corresponding classes / functions should instead be imported from sklearn.ensemble. Anything that cannot be imported from sklearn.ensemble is now part of the private API.\n",
      "  warnings.warn(message, FutureWarning)\n",
      "/usr/local/lib/python3.6/dist-packages/sklearn/externals/six.py:31: FutureWarning: The module is deprecated in version 0.21 and will be removed in version 0.23 since we've dropped support for Python 2.7. Please rely on the official version of six (https://pypi.org/project/six/).\n",
      "  \"(https://pypi.org/project/six/).\", FutureWarning)\n",
      "/usr/local/lib/python3.6/dist-packages/sklearn/utils/deprecation.py:144: FutureWarning: The sklearn.tree.tree module is  deprecated in version 0.22 and will be removed in version 0.24. The corresponding classes / functions should instead be imported from sklearn.tree. Anything that cannot be imported from sklearn.tree is now part of the private API.\n",
      "  warnings.warn(message, FutureWarning)\n"
     ]
    }
   ],
   "source": [
    "import numpy as np\n",
    "import matplotlib.pyplot as plt\n",
    "from scipy.stats import norm\n",
    "from datetime import datetime\n",
    "from sklearn.utils import shuffle\n",
    "import pickle\n",
    "import tqdm\n",
    "\n",
    "# Used to save images to Google Drive\n",
    "from google.colab import drive\n",
    "drive.mount('/content/gdrive')\n",
    "\n",
    "from skgarden import RandomForestQuantileRegressor, RandomForestRegressor\n"
   ]
  },
  {
   "cell_type": "markdown",
   "metadata": {
    "id": "tmXtpNIzXN03"
   },
   "source": [
    "# Distributions"
   ]
  },
  {
   "cell_type": "markdown",
   "metadata": {
    "id": "ZbH7-B34XRQl"
   },
   "source": [
    "This section contains different distributions that can be passed into the conditional quantile inference algorithm to test performance. Each distribution contains a sampling method and a conditional quantile calculation method."
   ]
  },
  {
   "cell_type": "markdown",
   "metadata": {
    "id": "jP746maJAokF"
   },
   "source": [
    "### Distribution 1"
   ]
  },
  {
   "cell_type": "code",
   "execution_count": null,
   "metadata": {
    "id": "Ij5X_W1sXo0j"
   },
   "outputs": [],
   "source": [
    "class NormalCorrelatedDistribution:\n",
    "\n",
    "  def __init__(self, d = 3, rho = 0, sigma = 1):\n",
    "    assert d >= 3, f\"Need d at least 3 but got {d}\"\n",
    "    self.mu = np.zeros(d)\n",
    "    self.Sigma = (1. - rho) * np.identity(d) + rho * np.ones((d,d))\n",
    "    self.resid_sigma = sigma\n",
    "\n",
    "  def get_stdev(self, X, n):\n",
    "    return 0.1 + 0.25 * np.square(np.linalg.norm(X, axis = 1)).reshape((n,1))\n",
    "\n",
    "  def sample(self, n):\n",
    "    X = np.random.multivariate_normal(mean = self.mu, cov = self.Sigma, size = n)\n",
    "    Y_mean = np.square(X[:,[0]] + X[:,[1]]) - X[:,[2]]\n",
    "    Y_resid = np.multiply(self.get_stdev(X, n), np.random.normal(loc = 0., scale = self.resid_sigma, size = (n,1)))\n",
    "    Y = Y_mean + Y_resid\n",
    "    return X, Y\n",
    "\n",
    "  def get_quantile(self, X, q):\n",
    "    Y_mean = np.square(X[:,[0]] + X[:,[1]]) - X[:,[2]]\n",
    "    Y_quantile = self.get_stdev(X, X.shape[0]) * norm.ppf(q, loc = 0., scale = self.resid_sigma)\n",
    "    return Y_mean + Y_quantile"
   ]
  },
  {
   "cell_type": "markdown",
   "metadata": {
    "id": "Vy_RGXMPAqbv"
   },
   "source": [
    "### Distribution 2"
   ]
  },
  {
   "cell_type": "code",
   "execution_count": null,
   "metadata": {
    "id": "cBoXpJ3TijCZ"
   },
   "outputs": [],
   "source": [
    "class IncreasingVarianceDistribution:\n",
    "\n",
    "  def __init__(self, scale = np.pi, power = 1.):\n",
    "    assert scale > 0, f\"Need positive scale but got {scale}\"\n",
    "    assert power > 0, f\"Need positive power but got {power}\"\n",
    "    self.scale = scale\n",
    "    self.power = power\n",
    "\n",
    "  def f(self, X):\n",
    "    return 1 + np.abs(X) * np.square(np.sin(X))\n",
    "\n",
    "  def sample(self, n):\n",
    "    X = np.random.uniform(low = -1. * self.scale, high = self.scale, size = (n,1))\n",
    "    Y = self.f(X) * (np.random.uniform(low = 0., high = 1., size = (n,1)) ** self.power)\n",
    "    return X, Y\n",
    "\n",
    "  def get_quantile(self, X, q):\n",
    "    return self.f(X) * (np.full(shape = (X.shape[0], 1), fill_value = q) ** self.power)\n"
   ]
  },
  {
   "cell_type": "markdown",
   "metadata": {
    "id": "CSBZWn_DAseu"
   },
   "source": [
    "### Distribution 3"
   ]
  },
  {
   "cell_type": "code",
   "execution_count": null,
   "metadata": {
    "id": "P77T6U7lltWF"
   },
   "outputs": [],
   "source": [
    "class ConfusingDistribution:\n",
    "\n",
    "  def __init__(self, delta = 0.01, M = 10):\n",
    "    assert delta > 0 and delta <= 0.25, f\"Need delta in (0, 0.25] but got {delta}\"\n",
    "    assert isinstance(M, int) and M > 0, f\"Need M to be a positive integer but got {M}\"\n",
    "    self.delta = delta\n",
    "    self.M = M\n",
    "    self.gamma = 1. / M\n",
    "\n",
    "  def f(self, X):\n",
    "    integral_part, fractional_part = np.divmod(X * self.M, 1.)\n",
    "    return self.gamma * fractional_part - self.gamma / 2. - ((-1) ** (integral_part)) * (1. - self.gamma / 2.)\n",
    "\n",
    "  def sample(self, n):\n",
    "    X = np.random.uniform(low = -1., high = 1., size = (n,1))\n",
    "    Y = self.f(X) * np.random.binomial(n = 1, p = 0.5 + 2 * self.delta, size = (n,1))\n",
    "    return X, Y\n",
    "\n",
    "  def get_quantile(self, X, q):\n",
    "    nonzero_values = self.f(X)\n",
    "    return (np.sign(nonzero_values) * (q - 0.5) >= -2. * self.delta) * nonzero_values\n"
   ]
  },
  {
   "cell_type": "markdown",
   "metadata": {
    "id": "foK92D8tt8O4"
   },
   "source": [
    "## Distribution Plots"
   ]
  },
  {
   "cell_type": "markdown",
   "metadata": {
    "id": "FCqARLQEuEYJ"
   },
   "source": [
    "We plot the distributions, as well as the conditional medians, of Distributions 2 and 3. For Distribution 1, we cannot plot the full distribution due to dimensionality; we instead plot the distribution of the datapoints as well as the distribution of the conditional median."
   ]
  },
  {
   "cell_type": "code",
   "execution_count": null,
   "metadata": {
    "id": "vjyvUfigvhko"
   },
   "outputs": [],
   "source": [
    "n = 10000\n",
    "q = 0.5\n",
    "\n",
    "bins = 150\n",
    "\n",
    "save_figs = False\n",
    "images_dir = '/content/gdrive/My Drive/Conditional Median Inference/'\n",
    "dpi = 2000"
   ]
  },
  {
   "cell_type": "code",
   "execution_count": null,
   "metadata": {
    "colab": {
     "base_uri": "https://localhost:8080/",
     "height": 297
    },
    "id": "qkiyR-wrvVCn",
    "outputId": "6e361f47-9e9c-42fd-9842-4afc8659b3c5"
   },
   "outputs": [
    {
     "data": {
      "image/png": "[encoded data removed]",
      "text/plain": [
       "<Figure size 432x288 with 1 Axes>"
      ]
     },
     "metadata": {
      "needs_background": "light",
      "tags": []
     },
     "output_type": "display_data"
    }
   ],
   "source": [
    "distribution1 = NormalCorrelatedDistribution(d = 10, rho = 0.25, sigma = 1)\n",
    "X, Y = distribution1.sample(n)\n",
    "Y_median = distribution1.get_quantile(X, q)\n",
    "\n",
    "plt.hist(Y, density = True, bins = bins, alpha = 1, color = 'c', label = 'Datapoints')\n",
    "plt.hist(Y_median, density = True, bins = bins, alpha = 0.5, color = 'r', label = 'Conditional Median')\n",
    "plt.legend()\n",
    "plt.xlabel('Y')\n",
    "plt.ylabel('Density')\n",
    "plt.title(r'$P_1$ Y Distribution and Conditional Median Distribution')\n",
    "\n",
    "if save_figs:\n",
    "  filename = \"Distribution 1.pdf\"\n",
    "  plt.savefig(images_dir + filename)\n",
    "plt.show()"
   ]
  },
  {
   "cell_type": "code",
   "execution_count": null,
   "metadata": {
    "id": "Ta7r3miI6a6O"
   },
   "outputs": [],
   "source": [
    "datapoint_size = 5\n",
    "datapoint_color = 'c'\n",
    "datapoint_scale = 2.\n",
    "\n",
    "median_linewidth = 2\n",
    "median_color = 'k'\n",
    "\n",
    "title_fontsize = 16\n",
    "label_fontsize = 14"
   ]
  },
  {
   "cell_type": "code",
   "execution_count": null,
   "metadata": {
    "colab": {
     "base_uri": "https://localhost:8080/",
     "height": 303
    },
    "id": "EkWmmvXV43B5",
    "outputId": "387f49aa-6959-4fbb-8198-48304f325031"
   },
   "outputs": [
    {
     "data": {
      "image/png": "[encoded data removed]",
      "text/plain": [
       "<Figure size 360x288 with 1 Axes>"
      ]
     },
     "metadata": {
      "needs_background": "light",
      "tags": []
     },
     "output_type": "display_data"
    }
   ],
   "source": [
    "scale = 4 * np.pi\n",
    "power = 0.25\n",
    "\n",
    "distribution2 = IncreasingVarianceDistribution(scale = scale, power = power)\n",
    "X, Y = distribution2.sample(n)\n",
    "\n",
    "X_range = np.linspace(start = -1. * scale, stop = scale, num = n)\n",
    "Y_median = distribution2.get_quantile(X_range.reshape((n,1)), 0.5)\n",
    "\n",
    "plt.figure(figsize = (5,4))\n",
    "plt.tight_layout()\n",
    "plt.scatter(X,Y, s = datapoint_size, color = datapoint_color, label = 'Datapoints')\n",
    "plt.plot(X_range, Y_median, color = median_color, linewidth = median_linewidth, label = 'Conditional Median')\n",
    "plt.legend(markerscale= datapoint_scale)\n",
    "\n",
    "plt.xlabel(r\"$X$\", fontsize = label_fontsize)\n",
    "plt.ylabel(r\"$Y$\", fontsize = label_fontsize)\n",
    "plt.title(r\"$P_2$\", fontsize = title_fontsize)\n",
    "\n",
    "save_figs = True\n",
    "if save_figs:\n",
    "  filename = \"Distribution 2.pdf\"\n",
    "  plt.savefig(images_dir + filename,bbox_inches='tight')\n",
    "\n",
    "plt.show()"
   ]
  },
  {
   "cell_type": "code",
   "execution_count": null,
   "metadata": {
    "colab": {
     "base_uri": "https://localhost:8080/",
     "height": 303
    },
    "id": "q0OkDB4L8wqC",
    "outputId": "80fa9065-d883-43d0-dd41-89f35071537d"
   },
   "outputs": [
    {
     "data": {
      "image/png": "[encoded data removed]",
      "text/plain": [
       "<Figure size 360x288 with 1 Axes>"
      ]
     },
     "metadata": {
      "needs_background": "light",
      "tags": []
     },
     "output_type": "display_data"
    }
   ],
   "source": [
    "M = 25\n",
    "delta = 0.0001\n",
    "gamma = 1./M\n",
    "\n",
    "distribution3 = ConfusingDistribution(delta = delta, M = M)\n",
    "X, Y = distribution3.sample(n)\n",
    "\n",
    "plt.figure(figsize = (5,4))\n",
    "plt.tight_layout()\n",
    "plt.scatter(X,Y, s = 8, color = datapoint_color, label = 'Datapoints')\n",
    "plt.plot([0, 0], [-1, -1], color = median_color, linewidth = median_linewidth, label = 'Conditional Median')\n",
    "\n",
    "for i in range(-M, M):\n",
    "  if (i % 2) == 0:\n",
    "    plt.plot([gamma * i, gamma * i + gamma], [-1, -1 + gamma], color = median_color, linewidth = median_linewidth)\n",
    "  if (i % 2) == 1:\n",
    "    plt.plot([gamma * i, gamma * i + gamma], [1 - gamma, 1], color = median_color, linewidth = median_linewidth)\n",
    "\n",
    "\n",
    "plt.ylim((-1.1, 1.6))\n",
    "plt.legend(markerscale= 1.5, loc = 'upper center')\n",
    "\n",
    "plt.xlabel(r\"$X$\", fontsize = label_fontsize)\n",
    "plt.ylabel(r\"$Y$\", fontsize = label_fontsize)\n",
    "plt.title(r\"$P_3$\", fontsize = title_fontsize)\n",
    "\n",
    "save_figs = True\n",
    "if save_figs:\n",
    "  filename = \"Distribution 3.pdf\"\n",
    "  plt.savefig(images_dir + filename,bbox_inches='tight')\n",
    "\n",
    "plt.show()"
   ]
  },
  {
   "cell_type": "markdown",
   "metadata": {
    "id": "C0W6FIc0Ac9W"
   },
   "source": [
    "# Conformity Scores"
   ]
  },
  {
   "cell_type": "markdown",
   "metadata": {
    "id": "FAqwyEOSAnm6"
   },
   "source": [
    "This section contains different conformity scores that can be passed into the conditional median inference algorithm. Each score contains a training method, a scoring method, and an inverse method. Note that we use a random forest predictor for all 4 conformity scores; for the first two, we train a random forest to predict the conditional mean, while the last two train a random forest to predict the conditional quantile."
   ]
  },
  {
   "cell_type": "markdown",
   "metadata": {
    "id": "achpIoZPA8bF"
   },
   "source": [
    "### Conformity Score 1"
   ]
  },
  {
   "cell_type": "code",
   "execution_count": null,
   "metadata": {
    "id": "qFg6dQJMAmJp"
   },
   "outputs": [],
   "source": [
    "class LinearDistanceConformityScore:\n",
    "\n",
    "  def __init__(self, **kwargs):\n",
    "    self.mu = RandomForestRegressor(**kwargs)\n",
    "\n",
    "  def train(self, X, Y):\n",
    "    self.mu.fit(X, Y)\n",
    "\n",
    "  def score(self, X, Y):\n",
    "    n = X.shape[0]\n",
    "    prediction = self.mu.predict(X).reshape((n,1))\n",
    "    return Y - prediction\n",
    "\n",
    "  def inverse(self, X, score):\n",
    "    n = X.shape[0]\n",
    "    prediction = self.mu.predict(X).reshape((n,1))\n",
    "    return prediction + score\n"
   ]
  },
  {
   "cell_type": "markdown",
   "metadata": {
    "id": "dFui0pCtA-TF"
   },
   "source": [
    "### Conformity Score 2"
   ]
  },
  {
   "cell_type": "code",
   "execution_count": null,
   "metadata": {
    "id": "1-Qd6oO6K1Ak"
   },
   "outputs": [],
   "source": [
    "class NormalizedDistanceConformityScore: \n",
    "\n",
    "  def __init__(self, **kwargs):\n",
    "    self.mu = RandomForestRegressor(**kwargs)\n",
    "\n",
    "  def train(self, X, Y):\n",
    "    self.mu.fit(X, Y)\n",
    "\n",
    "  def score(self, X, Y):\n",
    "    n = X.shape[0]\n",
    "    prediction, std = self.mu.predict(X, return_std = True)\n",
    "    prediction = prediction.reshape((n,1))\n",
    "    std = std.reshape((n,1))\n",
    "    return (Y - prediction) / std\n",
    "\n",
    "  def inverse(self, X, score):\n",
    "    n = X.shape[0]\n",
    "    prediction, std = self.mu.predict(X, return_std = True)\n",
    "    prediction = prediction.reshape((n,1))\n",
    "    std = std.reshape((n,1))\n",
    "    return prediction + score * std\n"
   ]
  },
  {
   "cell_type": "markdown",
   "metadata": {
    "id": "hR7NEMdOA_4F"
   },
   "source": [
    "### Conformity Score 3"
   ]
  },
  {
   "cell_type": "code",
   "execution_count": null,
   "metadata": {
    "id": "T2GC2KZDLkST"
   },
   "outputs": [],
   "source": [
    "class QuantileDistanceConformityScore:\n",
    "\n",
    "  def __init__(self, quantile = None, **kwargs):\n",
    "    self.mu = RandomForestQuantileRegressor(**kwargs)\n",
    "    self.quantile = 100 * quantile\n",
    "\n",
    "  def train(self, X, Y):\n",
    "    self.mu.fit(X, Y)\n",
    "\n",
    "  def score(self, X, Y):\n",
    "    n = X.shape[0]\n",
    "    prediction = self.mu.predict(X, quantile = self.quantile).reshape((n,1))\n",
    "    return Y - prediction\n",
    "\n",
    "  def inverse(self, X, score):\n",
    "    n = X.shape[0]\n",
    "    prediction = self.mu.predict(X, quantile = self.quantile).reshape((n,1))\n",
    "    return prediction + score\n"
   ]
  },
  {
   "cell_type": "markdown",
   "metadata": {
    "id": "p94_lk11BBgl"
   },
   "source": [
    "### Conformity Score 4"
   ]
  },
  {
   "cell_type": "code",
   "execution_count": null,
   "metadata": {
    "id": "ds7CZqguMmd5"
   },
   "outputs": [],
   "source": [
    "class InverseCDFConformityScore:\n",
    "\n",
    "  quantile_list = [0,1,2,3,4,5,10,20,30,40,50,60,70,80,90,95,96,97,98,99,100]\n",
    "\n",
    "  def __init__(self, quantiles = None, **kwargs):\n",
    "    self.mu = RandomForestQuantileRegressor(**kwargs)\n",
    "    if quantiles:\n",
    "      self.quantiles = quantiles\n",
    "    else:\n",
    "      self.quantiles = self.quantile_list\n",
    "\n",
    "  def train(self, X, Y):\n",
    "    self.mu.fit(X, Y)\n",
    "\n",
    "  def score_individual(self, X_i, Y_i):\n",
    "    Y_value = Y_i[0,0]\n",
    "    quantile_predictions = {}\n",
    "\n",
    "    low_index = 0\n",
    "    high_index = len(self.quantiles) - 1\n",
    "    mid_index = 0\n",
    "\n",
    "    while low_index + 1 < high_index:\n",
    "      mid_index = int((low_index + high_index) / 2)\n",
    "      mid_value = self.quantiles[mid_index]\n",
    "      quantile_predictions[mid_value] = self.mu.predict(X_i, quantile = mid_value)[0]\n",
    "\n",
    "      if quantile_predictions[mid_value] < Y_value:\n",
    "        low_index = mid_index\n",
    "      elif quantile_predictions[mid_value] > Y_value:\n",
    "        high_index = mid_index\n",
    "      else:\n",
    "        return mid_value\n",
    "\n",
    "    low_value = self.quantiles[low_index]\n",
    "    high_value = self.quantiles[high_index]\n",
    "    if low_value not in quantile_predictions:\n",
    "      quantile_predictions[low_value] = self.mu.predict(X_i, quantile = low_value)[0]\n",
    "    if high_value not in quantile_predictions:\n",
    "      quantile_predictions[high_value] = self.mu.predict(X_i, quantile = high_value)[0]\n",
    "\n",
    "    if Y_value < quantile_predictions[low_value]:\n",
    "      return self.quantiles[0] + Y_value - quantile_predictions[low_value]\n",
    "    if Y_value > quantile_predictions[high_value]:\n",
    "      return self.quantiles[-1] + Y_value - quantile_predictions[high_value]\n",
    "    return np.interp(Y_value, [quantile_predictions[low_value], quantile_predictions[high_value]], [low_value, high_value])\n",
    "\n",
    "  def score(self, X, Y):\n",
    "    n = X.shape[0]\n",
    "    scores = np.zeros((n, 1))\n",
    "\n",
    "    for i in range(n):\n",
    "      X_i = X[[i],:]\n",
    "      Y_i = Y[[i],:]\n",
    "      scores[i, 0] = self.score_individual(X_i, Y_i)\n",
    "    return scores\n",
    "\n",
    "  def inverse_individual(self, X_i, score_i):\n",
    "    score_value = score_i[0,0]\n",
    "    quantile_predictions = {}\n",
    "\n",
    "    if score_value < self.quantiles[0]:\n",
    "      quantile_predictions[self.quantiles[0]] = self.mu.predict(X_i, quantile = self.quantiles[0])[0]\n",
    "      return quantile_predictions[self.quantiles[0]] + score_value - self.quantiles[0]\n",
    "    if score_value > self.quantiles[-1]:\n",
    "      quantile_predictions[self.quantiles[-1]] = self.mu.predict(X_i, quantile = self.quantiles[-1])[0]\n",
    "      return quantile_predictions[self.quantiles[-1]] + score_value - self.quantiles[-1]\n",
    "\n",
    "    low_index = np.searchsorted(self.quantiles, score_value, side = 'right') - 1\n",
    "    high_index = np.searchsorted(self.quantiles, score_value, side = 'left')\n",
    "    low_value = self.quantiles[low_index]\n",
    "    high_value = self.quantiles[high_index]\n",
    "    if low_value not in quantile_predictions:\n",
    "      quantile_predictions[low_value] = self.mu.predict(X_i, quantile = low_value)[0]\n",
    "    if high_value not in quantile_predictions:\n",
    "      quantile_predictions[high_value] = self.mu.predict(X_i, quantile = high_value)[0]\n",
    "    return np.interp(score_value, [low_value,high_value], [quantile_predictions[low_value], quantile_predictions[high_value]])\n",
    "  \n",
    "  def inverse(self, X, score):\n",
    "    n = X.shape[0]\n",
    "    inverses = np.zeros((n, 1))\n",
    "\n",
    "    for i in range(n):\n",
    "      X_i = X[[i],:]\n",
    "      score_i = score[[i],:]\n",
    "      inverses[i, 0] = self.inverse_individual(X_i, score_i)\n",
    "    return inverses\n"
   ]
  },
  {
   "cell_type": "markdown",
   "metadata": {
    "id": "ShmJcXwFy-ll"
   },
   "source": [
    "# Conditional Quantile Algorithm"
   ]
  },
  {
   "cell_type": "markdown",
   "metadata": {
    "id": "pfqXeKbmzCsK"
   },
   "source": [
    "This section contains the conditional quantile algorithm (Algorithm 2). It contains a train and test method."
   ]
  },
  {
   "cell_type": "code",
   "execution_count": null,
   "metadata": {
    "id": "5wFzVcFLzjhM"
   },
   "outputs": [],
   "source": [
    "class ConditionalMedianAlgorithm:\n",
    "\n",
    "  def __init__(self, conformity_score_low, conformity_score_high, \n",
    "               alpha = 0.1, quantile = 0.5, \n",
    "               data_split_proportion = 0.5, probability_split_proportion = 0.5):\n",
    "    \n",
    "    assert alpha > 0 and alpha < 1, f\"Need alpha to be in (0,1) but got {alpha}\"\n",
    "    assert quantile > 0 and quantile < 1, f\"Need quantile to be in (0,1) but got {quantile}\"\n",
    "    assert data_split_proportion > 0 and quantile < 1, f\"Need data_split_proportion to be in (0,1) but got {data_split_proportion}\"\n",
    "    assert probability_split_proportion > 0 and probability_split_proportion < 1, f\"Need probability_split_proportion to be in (0,1) but got {probability_split_proportion}\"\n",
    "\n",
    "\n",
    "    self.f_lo = conformity_score_low\n",
    "    self.f_hi = conformity_score_high\n",
    "    self.alpha = alpha\n",
    "    self.q = quantile\n",
    "    self.data_split_proportion = data_split_proportion\n",
    "    self.probability_split_proportion = probability_split_proportion\n",
    "\n",
    "    self.r = alpha * probability_split_proportion\n",
    "    self.s = alpha * (1. - probability_split_proportion)\n",
    "\n",
    "  def train(self, X, Y):\n",
    "    n = X.shape[0]\n",
    "    assert Y.shape[0] == n, f\"Need X and Y to be 2-dimensional arrays with equal number of rows but got X.shape={X.shape} and Y.shape={Y.shape}\"\n",
    "\n",
    "    n_1 = int(n * self.data_split_proportion)\n",
    "    n_2 = n - n_1\n",
    "    X_shuffled, Y_shuffled = shuffle(X, Y)\n",
    "    X_I_1 = X_shuffled[:n_1, :]\n",
    "    X_I_2 = X_shuffled[n_1:, :]\n",
    "    Y_I_1 = Y_shuffled[:n_1, :]\n",
    "    Y_I_2 = Y_shuffled[n_1:, :]\n",
    "\n",
    "    self.f_lo.train(X_I_1, Y_I_1)\n",
    "    self.f_hi.train(X_I_1, Y_I_1)\n",
    "\n",
    "    f_lo_scores = self.f_lo.score(X_I_2, Y_I_2).flatten()\n",
    "    f_hi_scores = self.f_hi.score(X_I_2, Y_I_2).flatten()\n",
    "\n",
    "    lower_quantile = self.r * self.q * (1. + 1. / n_2) - 1. / n_2\n",
    "    upper_quantile = (1 - self.s * (1 - self.q)) * (1. + 1. / n_2)\n",
    "\n",
    "    self.lower_score_bound = np.quantile(f_lo_scores, lower_quantile)\n",
    "    self.upper_score_bound = np.quantile(f_hi_scores, upper_quantile)\n",
    "\n",
    "  def test(self, X):\n",
    "    n = X.shape[0]\n",
    "    CI_lower = self.f_lo.inverse(X, np.full((n, 1), fill_value = self.lower_score_bound))\n",
    "    CI_upper = self.f_hi.inverse(X, np.full((n, 1), fill_value = self.upper_score_bound))\n",
    "    return np.concatenate((CI_lower, CI_upper), axis = 1)\n"
   ]
  },
  {
   "cell_type": "markdown",
   "metadata": {
    "id": "bRrZ70wlJqM-"
   },
   "source": [
    "# Testing Algorithm Performance"
   ]
  },
  {
   "cell_type": "markdown",
   "metadata": {
    "id": "3GkzPEz_Jsej"
   },
   "source": [
    "We now go over the performance of the Conditional Median Algorithm by testing its performance on different distributions and conformity scores."
   ]
  },
  {
   "cell_type": "markdown",
   "metadata": {
    "id": "uKs7CUOkCAJ0"
   },
   "source": [
    "### Helper Functions"
   ]
  },
  {
   "cell_type": "code",
   "execution_count": null,
   "metadata": {
    "id": "rnR6UEJuLKi7"
   },
   "outputs": [],
   "source": [
    "def get_indices_accurate(values, CI):\n",
    "  return np.logical_and(np.less_equal(CI[:,[0]], values), np.less_equal(values, CI[:,[1]]))\n",
    "\n",
    "def get_proportion_accurate(values, CI):\n",
    "  return np.average(get_indices_accurate(values, CI))\n",
    "\n",
    "def get_widths(CI):\n",
    "  return CI[:,[1]] - CI[:,[0]]\n",
    "\n",
    "def get_avg_width(CI):\n",
    "  return np.average(get_widths(CI))"
   ]
  },
  {
   "cell_type": "markdown",
   "metadata": {
    "id": "Cx3YW3LgCDyK"
   },
   "source": [
    "### Distribution Parameter Specifications"
   ]
  },
  {
   "cell_type": "code",
   "execution_count": null,
   "metadata": {
    "id": "ME6cPdntNO17"
   },
   "outputs": [],
   "source": [
    "def get_dist(distribution):\n",
    "  if distribution == 1:\n",
    "    return NormalCorrelatedDistribution(d = 10, rho = 0.25, sigma = 1)\n",
    "  if distribution == 2:\n",
    "    return IncreasingVarianceDistribution(scale = 4 * np.pi, power = 0.25)\n",
    "  if distribution == 3:\n",
    "    return ConfusingDistribution(delta = 0.0001, M = 25)\n",
    "  assert f\"Need distribution to be 1, 2, or 3, but got {distribution}\""
   ]
  },
  {
   "cell_type": "markdown",
   "metadata": {
    "id": "vCk6ZuCSCHxA"
   },
   "source": [
    "### Distribution Test Points"
   ]
  },
  {
   "cell_type": "code",
   "execution_count": null,
   "metadata": {
    "id": "coZRQ1x8PRaD"
   },
   "outputs": [],
   "source": [
    "dist_1_test_data = NormalCorrelatedDistribution(d = 10, rho = 0.25, sigma = 1).sample(50000)[0]\n",
    "\n",
    "def get_test_dist(distribution, n):\n",
    "  if distribution == 1:\n",
    "    return dist_1_test_data[:n, :]\n",
    "  if distribution == 2:\n",
    "    return np.linspace(start = -4. * np.pi, stop = 4 * np.pi, num = n).reshape((n, 1))\n",
    "  if distribution == 3:\n",
    "    return np.linspace(start = -1., stop = 1., num = n).reshape((n, 1))\n",
    "  assert f\"Need distribution to be 1, 2, or 3, but got {distribution}\""
   ]
  },
  {
   "cell_type": "markdown",
   "metadata": {
    "id": "U6TCBGRlB5Iz"
   },
   "source": [
    "### Random Forest Hyperparameters"
   ]
  },
  {
   "cell_type": "code",
   "execution_count": null,
   "metadata": {
    "id": "vS61VdNiNwZs"
   },
   "outputs": [],
   "source": [
    "kwargs = {\"n_estimators\": 20,\n",
    "          \"min_samples_split\": 80,\n",
    "          \"min_samples_leaf\": 40}\n",
    "\n",
    "def get_scores(score, alpha):\n",
    "  if score == 1:\n",
    "    return LinearDistanceConformityScore(**kwargs), LinearDistanceConformityScore(**kwargs)\n",
    "  if score == 2:\n",
    "    return NormalizedDistanceConformityScore(**kwargs), NormalizedDistanceConformityScore(**kwargs)\n",
    "  if score == 3:\n",
    "    return QuantileDistanceConformityScore(quantile = alpha/2., criterion = \"mae\", **kwargs), QuantileDistanceConformityScore(quantile = 1. - alpha/2., criterion = \"mae\", **kwargs)\n",
    "  if score == 4:\n",
    "    return InverseCDFConformityScore(quantiles = None, criterion = \"mae\", **kwargs), InverseCDFConformityScore(quantiles = None, criterion = \"mae\", **kwargs)\n",
    "  assert f\"Need score to be 1, 2, 3, or 4, but got {score}\""
   ]
  },
  {
   "cell_type": "markdown",
   "metadata": {
    "id": "_o4jcY1JCN0i"
   },
   "source": [
    "### Simulation Parameters"
   ]
  },
  {
   "cell_type": "code",
   "execution_count": null,
   "metadata": {
    "id": "2Nv3JndhiOwt"
   },
   "outputs": [],
   "source": [
    "alpha = 0.1\n",
    "n_train = 5000\n",
    "n_test = 5000"
   ]
  },
  {
   "cell_type": "code",
   "execution_count": null,
   "metadata": {
    "id": "YszRc7vKh5Bj"
   },
   "outputs": [],
   "source": [
    "def run_singular_trial(distribution_number, score_number, make_fig = True, save_fig = False, trial_num = 0, print_stats = False):\n",
    "  setup = f\"Distribution {distribution_number}; Conformity Score {score_number}; Trial {trial_num}\"\n",
    "  print(setup)\n",
    "  dist = get_dist(distribution_number)\n",
    "\n",
    "  f_lo, f_hi = get_scores(score_number, alpha = alpha)\n",
    "\n",
    "  algorithm = ConditionalMedianAlgorithm(conformity_score_low = f_lo, conformity_score_high = f_hi, alpha = alpha)\n",
    "\n",
    "  X_train, Y_train = dist.sample(n_train)\n",
    "  algorithm.train(X_train, Y_train)\n",
    "\n",
    "  X_test = get_test_dist(distribution_number, n_test)\n",
    "  Y_median_true = dist.get_quantile(X_test, 0.5)\n",
    "  Y_median_CI = algorithm.test(X_test)\n",
    "  prop_accurate = get_proportion_accurate(Y_median_true, Y_median_CI)\n",
    "  avg_width = get_avg_width(Y_median_CI)\n",
    "\n",
    "  if print_stats:\n",
    "    print(f\"Proportion Accurate: {prop_accurate}\")\n",
    "    print(f\"Average Width: {avg_width}\")\n",
    "\n",
    "  if make_fig and distribution_number in [2,3]:\n",
    "    plt.figure(figsize = (5,4))\n",
    "    plt.tight_layout()\n",
    "    plt.plot(X_test, Y_median_true, color = median_color, linewidth = median_linewidth, label = 'Conditional Median')\n",
    "    plt.fill_between(X_test.ravel(), Y_median_CI[:,[0]].ravel(), Y_median_CI[:,[1]].ravel(), label = 'Confidence Interval', color = 'r', alpha = 0.2)\n",
    "    plt.scatter(X_train, Y_train, s = 0.5, color = datapoint_color, alpha = 0.25, label = 'Datapoints')\n",
    "    plt.legend(markerscale = 5)\n",
    "\n",
    "    plt.xlabel(r\"$X$\", fontsize = label_fontsize)\n",
    "    plt.ylabel(r\"$Y$\", fontsize = label_fontsize)\n",
    "    plt.title(f\"Conformity Score {score_number}\", fontsize = title_fontsize)\n",
    "    if save_fig:\n",
    "      filename = f\"{setup}.{trial_num}.pdf\"\n",
    "      plt.savefig(images_dir + filename,bbox_inches='tight')\n",
    "    plt.show()\n",
    "\n",
    "  return get_indices_accurate(Y_median_true, Y_median_CI), get_widths(Y_median_CI)"
   ]
  },
  {
   "cell_type": "markdown",
   "metadata": {
    "id": "EGjsA37OCYJ3"
   },
   "source": [
    "## Get Images of Singular Trial on Distribution 2 for all conformity scores"
   ]
  },
  {
   "cell_type": "code",
   "execution_count": null,
   "metadata": {
    "id": "wx1ekYsNUsmP"
   },
   "outputs": [],
   "source": [
    "distribution_number = 2\n",
    "\n",
    "for score_number in tqdm.tqdm([1,2,3,4]):\n",
    "  indices_acc, widths = run_singular_trial(distribution_number, score_number, make_fig = True, save_fig = True, trial_num = 0)\n",
    "\n",
    "  prop_accurate = np.average(indices_acc)\n",
    "  avg_width = np.average(widths)\n",
    "  performance = {\"Proportion Accurate\": prop_accurate,\n",
    "                \"Average Width\": avg_width}\n",
    "  output = open(images_dir + f\"Performance Distribution {distribution_number} Score {score_number}.pkl\", 'wb')\n",
    "  pickle.dump(performance, output)\n",
    "  output.close()"
   ]
  },
  {
   "cell_type": "markdown",
   "metadata": {
    "id": "HFMK2OpqCiAn"
   },
   "source": [
    "## Run 25 trials for each combination of distribution and conformity score to test performance"
   ]
  },
  {
   "cell_type": "code",
   "execution_count": null,
   "metadata": {
    "id": "-_X7hSTElUHt"
   },
   "outputs": [],
   "source": [
    "num_trials = 25"
   ]
  },
  {
   "cell_type": "code",
   "execution_count": null,
   "metadata": {
    "id": "rGeYLg7sWQXg"
   },
   "outputs": [],
   "source": [
    "for dist_number in [1,2,3]:\n",
    "  for score_number in [1,2,3,4]:\n",
    "\n",
    "    conditional_accuracies = []\n",
    "    conditional_widths = []\n",
    "\n",
    "    for trial in range(num_trials):\n",
    "      indices_acc, widths = run_singular_trial(distribution_number, score_number, make_fig = False, save_fig = False, trial_num = trial + 1)\n",
    "      conditional_accuracies.append(indices_acc)\n",
    "      conditional_widths.append(widths)\n",
    "\n",
    "    cond_acc_table = np.concatenate(conditional_accuracies, axis = 1)\n",
    "    cond_width_table = np.concatenate(conditional_widths, axis = 1)\n",
    "\n",
    "    coverage_prob = np.mean(cond_acc_table)\n",
    "    min_cond_coverage = min(np.mean(cond_acc_table, axis = 1))\n",
    "    avg_ci_width = np.mean(cond_width_table)\n",
    "    print(f\"Coverage Probability: {coverage_prob}\")\n",
    "    print(f\"Minimum Conditional Coverage: {min_cond_coverage}\")\n",
    "    print(f\"Average CI Width: {avg_ci_width}\")\n",
    "\n",
    "    results = {\"Conditional Accuracies\": cond_acc_table,\n",
    "              \"Confidence Interval Widths\": cond_width_table,\n",
    "              \"Coverage Probability\": coverage_prob,\n",
    "              \"Minimum Conditional Coverage\": min_cond_coverage,\n",
    "              \"Average CI Width\": avg_ci_width}\n",
    "\n",
    "    output = open(images_dir + f\"Results Distribution {distribution_number} Score {score_number}.pkl\", 'wb')\n",
    "    pickle.dump(results, output)\n",
    "    output.close()\n",
    "  \n"
   ]
  },
  {
   "cell_type": "markdown",
   "metadata": {
    "id": "x-J70Sw7DFlv"
   },
   "source": [
    "## Calculating Simulation Metrics \n",
    "\n",
    "We calculate the average rate of coverage, the standard deviation of rate of coverage, the minimal conditional coverage, the average confidence interval width, and the standard deviation of average confidence interval width."
   ]
  },
  {
   "cell_type": "code",
   "execution_count": null,
   "metadata": {
    "id": "7HH_gKxzOM7i"
   },
   "outputs": [],
   "source": [
    "\n",
    "coverage_stdev_table = np.zeros((4,3))\n",
    "cond_stdev_table = np.zeros((4,3))\n",
    "\n",
    "width_stdev_table = np.zeros((4,3))\n",
    "cond_width_stdev_table = np.zeros((4,3))"
   ]
  },
  {
   "cell_type": "code",
   "execution_count": null,
   "metadata": {
    "colab": {
     "base_uri": "https://localhost:8080/"
    },
    "id": "Hyf7rEKddSCe",
    "outputId": "c48270a0-dd0d-4303-d378-f9d1d445eccf"
   },
   "outputs": [
    {
     "name": "stdout",
     "output_type": "stream",
     "text": [
      "Distribution 1; Conformity Score 1\n",
      "Coverage StDev: 0.0019171854370404545\n",
      "Conditional Coverage StDev: 0.08190582817442106\n",
      "Average Width StDev: 0.432797735144035\n",
      "Conditional Average Width StDev: 0.0990325678337934\n",
      "Distribution 1; Conformity Score 2\n",
      "Coverage StDev: 0.000936874235601197\n",
      "Conditional Coverage StDev: 0.030887638842207563\n",
      "Average Width StDev: 0.40002104116493803\n",
      "Conditional Average Width StDev: 4.962640562725247\n",
      "Distribution 1; Conformity Score 3\n",
      "Coverage StDev: 0.0012649110640673559\n",
      "Conditional Coverage StDev: 0.035328402443414286\n",
      "Average Width StDev: 0.3218379593125384\n",
      "Conditional Average Width StDev: 3.7719437195885344\n",
      "Distribution 1; Conformity Score 4\n",
      "Coverage StDev: 0.0008549463920815996\n",
      "Conditional Coverage StDev: 0.02698721471274111\n",
      "Average Width StDev: 0.45798653510426357\n",
      "Conditional Average Width StDev: 4.463805431134346\n",
      "Distribution 2; Conformity Score 1\n",
      "Coverage StDev: 0.001966655367199182\n",
      "Conditional Coverage StDev: 0.010662971621117564\n",
      "Average Width StDev: 0.16741662057709616\n",
      "Conditional Average Width StDev: 0.03687420389341782\n",
      "Distribution 2; Conformity Score 2\n",
      "Coverage StDev: 0.002863051984625273\n",
      "Conditional Coverage StDev: 0.02277128213909027\n",
      "Average Width StDev: 0.11246840092255303\n",
      "Conditional Average Width StDev: 2.0844675689793988\n",
      "Distribution 2; Conformity Score 3\n",
      "Coverage StDev: 0.0013552367566837492\n",
      "Conditional Coverage StDev: 0.007451919633305522\n",
      "Average Width StDev: 0.04799774215816747\n",
      "Conditional Average Width StDev: 2.0319757285627014\n",
      "Distribution 2; Conformity Score 4\n",
      "Coverage StDev: 0.0010809255293497333\n",
      "Conditional Coverage StDev: 0.007516392966885548\n",
      "Average Width StDev: 0.08524194086103433\n",
      "Conditional Average Width StDev: 2.1760355920161585\n",
      "Distribution 3; Conformity Score 1\n",
      "Coverage StDev: 0.007800427338721035\n",
      "Conditional Coverage StDev: 0.10568005324909212\n",
      "Average Width StDev: 0.04306564697816523\n",
      "Conditional Average Width StDev: 0.015137993383933868\n",
      "Distribution 3; Conformity Score 2\n",
      "Coverage StDev: 0.007574809128508345\n",
      "Conditional Coverage StDev: 0.09338890577335354\n",
      "Average Width StDev: 0.04625216255111134\n",
      "Conditional Average Width StDev: 0.03233118134442118\n",
      "Distribution 3; Conformity Score 3\n",
      "Coverage StDev: 0.009704638066409279\n",
      "Conditional Coverage StDev: 0.232617587874257\n",
      "Average Width StDev: 0.005631382353962453\n",
      "Conditional Average Width StDev: 0.007274974633462558\n",
      "Distribution 3; Conformity Score 4\n",
      "Coverage StDev: 0.009293101384001657\n",
      "Conditional Coverage StDev: 0.2459974711560325\n",
      "Average Width StDev: 0.001795587190887161\n",
      "Conditional Average Width StDev: 0.0023123456854106995\n"
     ]
    }
   ],
   "source": [
    "for dist_num in [1,2,3]:\n",
    "  for score_num in [1,2,3,4]:\n",
    "    indices = (score_num - 1, dist_num - 1)\n",
    "\n",
    "    print(f\"Distribution {dist_num}; Conformity Score {score_num}\")\n",
    "    with open(images_dir + f\"Results Distribution {dist_num} Score {score_num}.pkl\", 'rb') as handle:\n",
    "        results = pickle.load(handle)\n",
    "        \n",
    "    trial_accuracies = np.mean(results['Conditional Accuracies'], axis = 0)\n",
    "    trial_acc_stdev = np.std(trial_accuracies, ddof=1)\n",
    "    cond_accuracies = np.mean(results['Conditional Accuracies'], axis = 1)\n",
    "    cond_acc_stdev = np.std(cond_accuracies, ddof=1)\n",
    "\n",
    "    results[\"Coverage StDev\"] = coverage_stdev_table[indices] = trial_acc_stdev\n",
    "    results[\"Conditional Coverage StDev\"] = cond_stdev_table[indices] = cond_acc_stdev\n",
    "    print(f\"Coverage StDev: {trial_acc_stdev}\")\n",
    "    print(f\"Conditional Coverage StDev: {cond_acc_stdev}\")\n",
    "\n",
    "    trial_widths = np.mean(results['Confidence Interval Widths'], axis = 0)\n",
    "    trial_width_stdev = np.std(trial_widths, ddof = 1)\n",
    "    cond_widths = np.mean(results['Confidence Interval Widths'], axis = 1)\n",
    "    cond_width_stdev = np.std(cond_widths, ddof = 1)\n",
    "\n",
    "    results[\"Avg Width StDev\"] = width_stdev_table[indices] = trial_width_stdev\n",
    "    results[\"Conditional Avg Width StDev\"] = cond_width_stdev_table[indices] = cond_width_stdev\n",
    "    print(f\"Average Width StDev: {trial_width_stdev}\")\n",
    "    print(f\"Conditional Average Width StDev: {cond_width_stdev}\")\n",
    "\n",
    "\n",
    "    output = open(images_dir + f\"Results Extended Distribution {distribution_number} Score {score_number}.pkl\", 'wb')\n",
    "    pickle.dump(results, output)\n",
    "    output.close()\n",
    "      "
   ]
  }
 ],
 "metadata": {
  "colab": {
   "collapsed_sections": [],
   "name": "Conditional Median Inference Simulations",
   "provenance": []
  },
  "kernelspec": {
   "display_name": "Python 3",
   "language": "python",
   "name": "python3"
  },
  "language_info": {
   "codemirror_mode": {
    "name": "ipython",
    "version": 3
   },
   "file_extension": ".py",
   "mimetype": "text/x-python",
   "name": "python",
   "nbconvert_exporter": "python",
   "pygments_lexer": "ipython3",
   "version": "3.8.5"
  }
 },
 "nbformat": 4,
 "nbformat_minor": 1
}
